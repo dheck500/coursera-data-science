{
 "cells": [
  {
   "cell_type": "markdown",
   "id": "c74d684a-4c35-4029-87ac-883f3aef9017",
   "metadata": {},
   "source": [
    "# My Jupyter Notebook on IBM Watson Studio"
   ]
  },
  {
   "cell_type": "markdown",
   "id": "2e554657-f94d-4230-8705-d4671429a4a7",
   "metadata": {},
   "source": [
    "# David Heck\n",
    "Analytics Engineer"
   ]
  },
  {
   "cell_type": "markdown",
   "id": "fa4b993a-d7a1-4681-83dd-a00d14c0924d",
   "metadata": {},
   "source": [
    "*I am interested in learning more about data science so I, as an Analytics Engineer, can better support the Data Scientists on my team.  \n",
    "Plus I find predictive analytics very interesting.*"
   ]
  },
  {
   "cell_type": "markdown",
   "id": "af6a52c7-bbcf-481f-9faf-ebffe69f82ad",
   "metadata": {},
   "source": [
    "### The following code prints out the current date and time when executed"
   ]
  },
  {
   "cell_type": "code",
   "execution_count": 7,
   "id": "3107ee9c-615b-4cbe-8c9f-c2954e24c078",
   "metadata": {},
   "outputs": [
    {
     "name": "stdout",
     "output_type": "stream",
     "text": [
      "The current time is 2023-01-20 20:38:16.646060\n"
     ]
    }
   ],
   "source": [
    "from datetime import datetime\n",
    "print(f'The current time is {datetime.now()}')"
   ]
  },
  {
   "cell_type": "markdown",
   "id": "b8b204c8-f3df-4b6f-9a92-49b84d6bccce",
   "metadata": {},
   "source": [
    "*** \n",
    "- one\n",
    "- two \n",
    "- three\n",
    "***\n",
    "1. uno\n",
    "1. dos\n",
    "1. tres\n",
    "***"
   ]
  }
 ],
 "metadata": {
  "kernelspec": {
   "display_name": "Python",
   "language": "python",
   "name": "conda-env-python-py"
  },
  "language_info": {
   "codemirror_mode": {
    "name": "ipython",
    "version": 3
   },
   "file_extension": ".py",
   "mimetype": "text/x-python",
   "name": "python",
   "nbconvert_exporter": "python",
   "pygments_lexer": "ipython3",
   "version": "3.7.12"
  }
 },
 "nbformat": 4,
 "nbformat_minor": 5
}
